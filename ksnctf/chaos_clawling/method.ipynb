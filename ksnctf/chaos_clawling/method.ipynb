{
 "cells": [
  {
   "attachments": {},
   "cell_type": "markdown",
   "metadata": {},
   "source": [
    "[参考文献](https://myhobbies-blog.net/ksnctf3/)\n",
    "\n",
    "console.logにより以下のコードが出てくるのでこれを解読したい\n",
    "\n",
    "```JavaScript\n",
    "$(function () {\n",
    "    $(\"form\").submit(function () {\n",
    "        var t = $('input[type=\"text\"]').val();\n",
    "        var p = Array(70, 152, 195, 284, 475, 612, 791, 896, 810, 850, 737, 1332, 1469, 1120, 1470, 832, 1785, 2196, 1520, 1480, 1449);\n",
    "        var f = false;\n",
    "        if (p.length == t.length) {\n",
    "            f = true;\n",
    "            for (var i = 0; i < p.length; i++)\n",
    "                if (t.charCodeAt(i) * (i + 1) != p[i])\n",
    "                    f = false;\n",
    "            if (f)\n",
    "                alert(\"(」・ω・)」うー!(/・ω・)/にゃー!\");\n",
    "        } if (!f)\n",
    "            alert(\"No\"); return false;\n",
    "    });\n",
    "});\n",
    "```"
   ]
  },
  {
   "cell_type": "code",
   "execution_count": 9,
   "metadata": {},
   "outputs": [],
   "source": [
    "word = [70, 152, 195, 284, 475, 612, 791, 896, 810, 850, 737, 1332, 1469, 1120, 1470, 832, 1785, 2196, 1520, 1480, 1449]\n",
    "ans = []"
   ]
  },
  {
   "cell_type": "code",
   "execution_count": 10,
   "metadata": {},
   "outputs": [
    {
     "name": "stdout",
     "output_type": "stream",
     "text": [
      "FLAG_fqpZUCoqPb4izPJE\n"
     ]
    }
   ],
   "source": [
    "for i in range(len(word)):    \n",
    "    test = word[i] / (i + 1)\n",
    "    #print(test)\n",
    "    character = chr(int(test))\n",
    "    ans.append(character)\n",
    "\n",
    "print(''.join(ans))"
   ]
  },
  {
   "cell_type": "code",
   "execution_count": null,
   "metadata": {},
   "outputs": [],
   "source": []
  }
 ],
 "metadata": {
  "kernelspec": {
   "display_name": "base",
   "language": "python",
   "name": "python3"
  },
  "language_info": {
   "codemirror_mode": {
    "name": "ipython",
    "version": 3
   },
   "file_extension": ".py",
   "mimetype": "text/x-python",
   "name": "python",
   "nbconvert_exporter": "python",
   "pygments_lexer": "ipython3",
   "version": "3.9.13"
  },
  "orig_nbformat": 4
 },
 "nbformat": 4,
 "nbformat_minor": 2
}
