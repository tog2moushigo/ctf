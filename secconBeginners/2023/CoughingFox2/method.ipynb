{
 "cells": [
  {
   "cell_type": "code",
   "execution_count": 1,
   "metadata": {},
   "outputs": [],
   "source": [
    "cipher = [4396, 22819, 47998, 47995, 40007, 9235, 21625, 25006, 4397, 51534, 46680, 44129, 38055, 18513, 24368, 38451, 46240, 20758, 37257, 40830, 25293, 38845, 22503, 44535, 22210, 39632, 38046, 43687, 48413, 47525, 23718, 51567, 23115, 42461, 26272, 28933, 23726, 48845, 21924, 46225, 20488, 27579, 21636]"
   ]
  },
  {
   "cell_type": "code",
   "execution_count": 2,
   "metadata": {},
   "outputs": [],
   "source": [
    "import math"
   ]
  },
  {
   "cell_type": "code",
   "execution_count": 52,
   "metadata": {},
   "outputs": [
    {
     "name": "stdout",
     "output_type": "stream",
     "text": [
      "[[0, 215], [1, 218], [2, 154], [3, 150], [4, 221], [5, 227], [6, 209], [7, 200], [8, 193], [9, 149], [10, 154], [11, 152], [12, 159], [13, 220], [14, 211], [15, 215], [16, 147], [17, 136], [18, 151], [19, 96], [20, 148], [21, 195], [22, 144], [23, 166], [24, 216], [25, 206], [26, 202], [27, 147], [28, 162], [29, 210], [30, 195], [31, 199], [32, 156], [33, 170], [34, 219], [35, 196], [36, 197], [37, 219], [38, 227], [39, 143], [40, 66], [41, 66], [42, 158]]\n",
      "b'ctf4b{hi_b3g1nner!g00d_1uck_4nd_h4ve_fun!!!}'\n",
      "size :  43\n"
     ]
    }
   ],
   "source": [
    "import sys\n",
    "decode_alpha = []\n",
    "\n",
    "for num in cipher:\n",
    "    for i in range(len(cipher)):\n",
    "        temp = math.sqrt(num - i)\n",
    "        if (temp - int(temp)) == 0:\n",
    "            decode_alpha.append([i, int(temp)])\n",
    "\n",
    "decode_alpha.sort()\n",
    "\n",
    "firstStr = b'c'\n",
    "decode_beta = []\n",
    "decode_beta.append(firstStr)\n",
    "\n",
    "for chara in decode_alpha:\n",
    "    c = (chara[1] - int.from_bytes(firstStr, sys.byteorder))\n",
    "    secondStr = int(c).to_bytes(1, sys.byteorder)\n",
    "    decode_beta.append(secondStr)\n",
    "    firstStr = secondStr\n",
    "    \n",
    "print(decode_alpha)\n",
    "print(b''.join(decode_beta) )\n",
    "print('size : ', len(decode_alpha))"
   ]
  },
  {
   "cell_type": "code",
   "execution_count": 45,
   "metadata": {},
   "outputs": [
    {
     "name": "stdout",
     "output_type": "stream",
     "text": [
      "<class 'bytes'>\n"
     ]
    }
   ],
   "source": [
    "import struct\n",
    "decode_s = b''.join([struct.pack('<f', v) for v in decode_beta])\n",
    "print('c')"
   ]
  },
  {
   "attachments": {},
   "cell_type": "markdown",
   "metadata": {},
   "source": [
    "これが，flag[i] + flag[i+1]だから，flag[0]とflag[44]はそれぞれ1回しか足されていない"
   ]
  },
  {
   "cell_type": "code",
   "execution_count": 37,
   "metadata": {},
   "outputs": [
    {
     "name": "stdout",
     "output_type": "stream",
     "text": [
      "83\n"
     ]
    }
   ],
   "source": [
    "tests = b\"AS\"\n",
    "print(tests[1])"
   ]
  },
  {
   "cell_type": "code",
   "execution_count": 13,
   "metadata": {},
   "outputs": [],
   "source": [
    "def searchCode(search, code1: str, code2:str = None):\n",
    "    if not hasattr(search, \"__iter__\"):\n",
    "        print('1st obj is not iterable')\n",
    "        return\n",
    "    \n",
    "    alpha = []\n",
    "    \n",
    "    if str == None:\n",
    "        for chara in search:\n",
    "            tmp = chara - code1.encode()\n",
    "            if tmp < 0:\n",
    "                tmp = '「'.encode()\n",
    "            alpha.append(str(tmp))\n",
    "        print(alpha)\n",
    "    else:\n",
    "        for chara in search:\n",
    "            tmp = chara - (code1.encode() + code2.encode())\n",
    "            if tmp == 0:\n",
    "                alpha.append(1)\n",
    "            else:\n",
    "                alpha.append(0)\n",
    "        print(alpha)"
   ]
  },
  {
   "cell_type": "code",
   "execution_count": 14,
   "metadata": {},
   "outputs": [
    {
     "ename": "TypeError",
     "evalue": "unsupported operand type(s) for -: 'int' and 'bytes'",
     "output_type": "error",
     "traceback": [
      "\u001b[0;31m---------------------------------------------------------------------------\u001b[0m",
      "\u001b[0;31mTypeError\u001b[0m                                 Traceback (most recent call last)",
      "\u001b[0;32m/tmp/ipykernel_2125/3922091382.py\u001b[0m in \u001b[0;36m<module>\u001b[0;34m\u001b[0m\n\u001b[0;32m----> 1\u001b[0;31m \u001b[0msearchCode\u001b[0m\u001b[0;34m(\u001b[0m\u001b[0mdecode_alpha\u001b[0m\u001b[0;34m,\u001b[0m \u001b[0;34m'c'\u001b[0m\u001b[0;34m,\u001b[0m \u001b[0;34m't'\u001b[0m\u001b[0;34m)\u001b[0m\u001b[0;34m\u001b[0m\u001b[0;34m\u001b[0m\u001b[0m\n\u001b[0m\u001b[1;32m      2\u001b[0m \u001b[0msearchCode\u001b[0m\u001b[0;34m(\u001b[0m\u001b[0mdecode_alpha\u001b[0m\u001b[0;34m,\u001b[0m \u001b[0;34m't'\u001b[0m\u001b[0;34m,\u001b[0m \u001b[0;34m'f'\u001b[0m\u001b[0;34m)\u001b[0m\u001b[0;34m\u001b[0m\u001b[0;34m\u001b[0m\u001b[0m\n\u001b[1;32m      3\u001b[0m \u001b[0msearchCode\u001b[0m\u001b[0;34m(\u001b[0m\u001b[0mdecode_alpha\u001b[0m\u001b[0;34m,\u001b[0m \u001b[0;34m'f'\u001b[0m\u001b[0;34m,\u001b[0m \u001b[0;34m'4'\u001b[0m\u001b[0;34m)\u001b[0m\u001b[0;34m\u001b[0m\u001b[0;34m\u001b[0m\u001b[0m\n\u001b[1;32m      4\u001b[0m \u001b[0msearchCode\u001b[0m\u001b[0;34m(\u001b[0m\u001b[0mdecode_alpha\u001b[0m\u001b[0;34m,\u001b[0m \u001b[0;34m'4'\u001b[0m\u001b[0;34m,\u001b[0m \u001b[0;34m'b'\u001b[0m\u001b[0;34m)\u001b[0m\u001b[0;34m\u001b[0m\u001b[0;34m\u001b[0m\u001b[0m\n\u001b[1;32m      5\u001b[0m \u001b[0msearchCode\u001b[0m\u001b[0;34m(\u001b[0m\u001b[0mdecode_alpha\u001b[0m\u001b[0;34m,\u001b[0m \u001b[0;34m'b'\u001b[0m\u001b[0;34m,\u001b[0m \u001b[0;34m'{'\u001b[0m\u001b[0;34m)\u001b[0m\u001b[0;34m\u001b[0m\u001b[0;34m\u001b[0m\u001b[0m\n",
      "\u001b[0;32m/tmp/ipykernel_2125/3378480525.py\u001b[0m in \u001b[0;36msearchCode\u001b[0;34m(search, code1, code2)\u001b[0m\n\u001b[1;32m     15\u001b[0m     \u001b[0;32melse\u001b[0m\u001b[0;34m:\u001b[0m\u001b[0;34m\u001b[0m\u001b[0;34m\u001b[0m\u001b[0m\n\u001b[1;32m     16\u001b[0m         \u001b[0;32mfor\u001b[0m \u001b[0mchara\u001b[0m \u001b[0;32min\u001b[0m \u001b[0msearch\u001b[0m\u001b[0;34m:\u001b[0m\u001b[0;34m\u001b[0m\u001b[0;34m\u001b[0m\u001b[0m\n\u001b[0;32m---> 17\u001b[0;31m             \u001b[0mtmp\u001b[0m \u001b[0;34m=\u001b[0m \u001b[0mchara\u001b[0m \u001b[0;34m-\u001b[0m \u001b[0;34m(\u001b[0m\u001b[0mcode1\u001b[0m\u001b[0;34m.\u001b[0m\u001b[0mencode\u001b[0m\u001b[0;34m(\u001b[0m\u001b[0;34m)\u001b[0m \u001b[0;34m+\u001b[0m \u001b[0mcode2\u001b[0m\u001b[0;34m.\u001b[0m\u001b[0mencode\u001b[0m\u001b[0;34m(\u001b[0m\u001b[0;34m)\u001b[0m\u001b[0;34m)\u001b[0m\u001b[0;34m\u001b[0m\u001b[0;34m\u001b[0m\u001b[0m\n\u001b[0m\u001b[1;32m     18\u001b[0m             \u001b[0;32mif\u001b[0m \u001b[0mtmp\u001b[0m \u001b[0;34m==\u001b[0m \u001b[0;36m0\u001b[0m\u001b[0;34m:\u001b[0m\u001b[0;34m\u001b[0m\u001b[0;34m\u001b[0m\u001b[0m\n\u001b[1;32m     19\u001b[0m                 \u001b[0malpha\u001b[0m\u001b[0;34m.\u001b[0m\u001b[0mappend\u001b[0m\u001b[0;34m(\u001b[0m\u001b[0;36m1\u001b[0m\u001b[0;34m)\u001b[0m\u001b[0;34m\u001b[0m\u001b[0;34m\u001b[0m\u001b[0m\n",
      "\u001b[0;31mTypeError\u001b[0m: unsupported operand type(s) for -: 'int' and 'bytes'"
     ]
    }
   ],
   "source": [
    "searchCode(decode_alpha, 'c', 't')\n",
    "searchCode(decode_alpha, 't', 'f')\n",
    "searchCode(decode_alpha, 'f', '4')\n",
    "searchCode(decode_alpha, '4', 'b')\n",
    "searchCode(decode_alpha, 'b', '{')\n",
    "searchCode(decode_alpha, '}')\n"
   ]
  },
  {
   "cell_type": "code",
   "execution_count": null,
   "metadata": {},
   "outputs": [],
   "source": []
  }
 ],
 "metadata": {
  "kernelspec": {
   "display_name": "Python 3",
   "language": "python",
   "name": "python3"
  },
  "language_info": {
   "codemirror_mode": {
    "name": "ipython",
    "version": 3
   },
   "file_extension": ".py",
   "mimetype": "text/x-python",
   "name": "python",
   "nbconvert_exporter": "python",
   "pygments_lexer": "ipython3",
   "version": "3.7.3"
  },
  "orig_nbformat": 4
 },
 "nbformat": 4,
 "nbformat_minor": 2
}
