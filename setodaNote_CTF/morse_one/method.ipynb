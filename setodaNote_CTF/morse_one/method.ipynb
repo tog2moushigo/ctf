{
 "cells": [
  {
   "cell_type": "code",
   "execution_count": 1,
   "metadata": {},
   "outputs": [
    {
     "name": "stdout",
     "output_type": "stream",
     "text": [
      "1\n"
     ]
    }
   ],
   "source": [
    "test = 1\n",
    "print(test)"
   ]
  },
  {
   "attachments": {},
   "cell_type": "markdown",
   "metadata": {},
   "source": [
    "https://www.javadrive.jp/python/file/index2.html"
   ]
  },
  {
   "cell_type": "code",
   "execution_count": 6,
   "metadata": {},
   "outputs": [
    {
     "name": "stdout",
     "output_type": "stream",
     "text": [
      "DDDBSDDSBDDDSDBDSBBBSDBBDSDBDDSDSBDDB\n",
      "<class 'str'>\n"
     ]
    }
   ],
   "source": [
    "f = open('morse_one.txt', 'r')\n",
    "data = f.read()\n",
    "print(data)\n",
    "print(type(data))"
   ]
  },
  {
   "cell_type": "code",
   "execution_count": 5,
   "metadata": {},
   "outputs": [
    {
     "name": "stdout",
     "output_type": "stream",
     "text": [
      "...- .. -... .-. --- .--. .-.. . -..-\n"
     ]
    }
   ],
   "source": [
    "alpha = data\n",
    "\n",
    "alpha = alpha.replace('S', ' ')\n",
    "alpha = alpha.replace('D', '.')\n",
    "alpha = alpha.replace('B', '-')\n",
    "print(alpha)"
   ]
  },
  {
   "cell_type": "code",
   "execution_count": 25,
   "metadata": {},
   "outputs": [],
   "source": [
    "# please use only '.' or ' ' or '-'\n",
    "def decFromMorse(code):\n",
    "    if not isinstance(code, str):\n",
    "        print('TypeError: code is not str.')\n",
    "        return\n",
    "    \n",
    "    codeList = code.split(' ')\n",
    "    \n",
    "    morseList = [['a','b','c','d','e','f','g','h','i','j','k','l','m','n','o','p','q','r','s','t','u','v','w','x','y','z'],\n",
    "                    [\n",
    "                        '.-',   #a\n",
    "                        '-...', #b\n",
    "                        '-.-.', #c\n",
    "                        '-..',  #d\n",
    "                        '.',    #e\n",
    "                        '..-.', #f\n",
    "                        '--.',  #g\n",
    "                        '....', #h\n",
    "                        '..',   #i\n",
    "                        '.---', #j\n",
    "                        '-.-',  #k\n",
    "                        '.-..', #l\n",
    "                        '--',   #m\n",
    "                        '-.',   #n\n",
    "                        '---',  #o\n",
    "                        '.--.', #p\n",
    "                        '--.-', #q\n",
    "                        '.-.',  #r\n",
    "                        '...',  #s\n",
    "                        '-',    #t\n",
    "                        '..-',  #u\n",
    "                        '...-', #v\n",
    "                        '.--',  #w\n",
    "                        '-..-', #x\n",
    "                        '-.--', #y\n",
    "                        '--..', #z\n",
    "                    ]\n",
    "                ]\n",
    "    #print(morseList[0])\n",
    "    #print(codeList)\n",
    "    for i in range(len(morseList[0])):\n",
    "        codeList = [s if '\\\\' in s else morseList[0][i] if morseList[1][i] == s else s for s in codeList]\n",
    "        \n",
    "    print(''.join(codeList))\n",
    "    return ''.join(codeList)\n",
    "    "
   ]
  },
  {
   "cell_type": "code",
   "execution_count": 28,
   "metadata": {},
   "outputs": [
    {
     "name": "stdout",
     "output_type": "stream",
     "text": [
      "vibroplex\n",
      "VIBROPLEX\n"
     ]
    }
   ],
   "source": [
    "ans = decFromMorse(alpha).upper()\n",
    "print(ans)"
   ]
  },
  {
   "cell_type": "code",
   "execution_count": null,
   "metadata": {},
   "outputs": [],
   "source": []
  }
 ],
 "metadata": {
  "kernelspec": {
   "display_name": "Python 3",
   "language": "python",
   "name": "python3"
  },
  "language_info": {
   "codemirror_mode": {
    "name": "ipython",
    "version": 3
   },
   "file_extension": ".py",
   "mimetype": "text/x-python",
   "name": "python",
   "nbconvert_exporter": "python",
   "pygments_lexer": "ipython3",
   "version": "3.7.3"
  },
  "orig_nbformat": 4
 },
 "nbformat": 4,
 "nbformat_minor": 2
}
