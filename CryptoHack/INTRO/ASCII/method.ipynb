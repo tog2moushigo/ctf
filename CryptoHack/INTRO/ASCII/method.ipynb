{
 "cells": [
  {
   "cell_type": "code",
   "execution_count": 1,
   "id": "fbfd2492",
   "metadata": {},
   "outputs": [],
   "source": [
    "ans = [99, 114, 121, 112, 116, 111, 123, 65, 83, 67, 73, 73, 95, 112, 114, 49, 110, 116, 52, 98, 108, 51, 125]"
   ]
  },
  {
   "cell_type": "code",
   "execution_count": 6,
   "id": "7b53c826",
   "metadata": {},
   "outputs": [
    {
     "name": "stdout",
     "output_type": "stream",
     "text": [
      "['c', 'r', 'y', 'p', 't', 'o', '{', 'A', 'S', 'C', 'I', 'I', '_', 'p', 'r', '1', 'n', 't', '4', 'b', 'l', '3', '}']\n"
     ]
    }
   ],
   "source": [
    "sss = []\n",
    "for char in ans:\n",
    "    sss.append(chr(char))\n",
    "print(sss)"
   ]
  },
  {
   "cell_type": "code",
   "execution_count": 8,
   "id": "0789bb39",
   "metadata": {},
   "outputs": [
    {
     "name": "stdout",
     "output_type": "stream",
     "text": [
      "crypto{ASCII_pr1nt4bl3}\n"
     ]
    }
   ],
   "source": [
    "print(''.join(sss))"
   ]
  },
  {
   "cell_type": "code",
   "execution_count": null,
   "id": "c13136c8",
   "metadata": {},
   "outputs": [],
   "source": []
  }
 ],
 "metadata": {
  "kernelspec": {
   "display_name": "userBinKernel",
   "language": "python",
   "name": "userbinkernel"
  },
  "language_info": {
   "codemirror_mode": {
    "name": "ipython",
    "version": 3
   },
   "file_extension": ".py",
   "mimetype": "text/x-python",
   "name": "python",
   "nbconvert_exporter": "python",
   "pygments_lexer": "ipython3",
   "version": "3.10.12"
  }
 },
 "nbformat": 4,
 "nbformat_minor": 5
}
